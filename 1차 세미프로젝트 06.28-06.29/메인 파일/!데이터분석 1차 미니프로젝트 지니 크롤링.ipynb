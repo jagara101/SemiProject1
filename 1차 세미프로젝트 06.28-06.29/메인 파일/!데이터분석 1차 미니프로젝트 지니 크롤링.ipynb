{
 "cells": [
  {
   "attachments": {},
   "cell_type": "markdown",
   "metadata": {},
   "source": [
    "패키지 설치"
   ]
  },
  {
   "cell_type": "code",
   "execution_count": 1,
   "metadata": {},
   "outputs": [],
   "source": [
    "import pandas as pd\n",
    "from pandas import DataFrame\n",
    "import requests\n",
    "from bs4 import BeautifulSoup\n",
    "import datetime as dt"
   ]
  },
  {
   "attachments": {},
   "cell_type": "markdown",
   "metadata": {},
   "source": [
    "날짜 구하기"
   ]
  },
  {
   "cell_type": "code",
   "execution_count": 2,
   "metadata": {},
   "outputs": [],
   "source": [
    "# 오늘 날짜 구하기\n",
    "today = dt.date.today()\n",
    "# 오늘 날짜 숫자 형식으로 출력\n",
    "today_number = today.strftime(\"%Y%m%d\")\n",
    "# 이번 달 1일 날짜 구하기\n",
    "start_month = dt.date(today.year, today.month, 1)\n",
    "# 어제 날짜 구하기\n",
    "yesterday = today - dt.timedelta(days=1)\n",
    "# 이번 달 1일 부터 어제 날짜까지 구하기\n",
    "delta = yesterday - start_month\n",
    "length = (delta.days + 1)\n",
    "# 날짜 추출\n",
    "days=int(today_number)"
   ]
  },
  {
   "attachments": {},
   "cell_type": "markdown",
   "metadata": {},
   "source": [
    "웹 페이지 데이터 수집 코드"
   ]
  },
  {
   "cell_type": "code",
   "execution_count": null,
   "metadata": {},
   "outputs": [],
   "source": [
    "# 수집할 음원 사이트의 주소 페이지 설정\n",
    "# 1~50, 51~100으로 2개의 페이지로 나눠져 있음\n",
    "pages = ['1', '2']\n",
    "# dict 형식의 제목, 가수, 앨범, 순위 등 정보를 담을 빈 list 생성\n",
    "genie_chart = []\n",
    "\n",
    "# 날짜별 데이터 수집(이번 달 1일 부터 어제 날짜까지)\n",
    "\n",
    "for i in range(length):\n",
    "    # 날짜 계산\n",
    "    date = (start_month + dt.timedelta(days=i)).strftime(\"%Y%m%d\")\n",
    "    modified_date = (start_month + dt.timedelta(days=i)).strftime(\"%Y%m%d\")[0:6] + \"{:02d}\".format(i + 1)\n",
    "    \n",
    "    for p in pages:\n",
    "        # 갱신된 날짜로 URL 생성\n",
    "        # 수집할 컨텐츠가 있는 날짜별 웹 페이지 주소\n",
    "        url = f'https://www.genie.co.kr/chart/top200?ditc=D&ymd={date}&hh=09&rtm=N&pg={p}'\n",
    "        # print(url)\n",
    "\n",
    "        # 브라우저 버전정보\n",
    "        userAgent = 'Mozilla/5.0 (Windows NT 10.0; Win64; x64)AppleWebKit/537.36 (KHTML, like Gecko) Chrome/114.0.0.0 Safari/537.36'\n",
    "\n",
    "        # 접속 객체 생성\n",
    "        # request는 직접 header 정보 갱신이 불가능해 session 생성\n",
    "        session = requests.Session()\n",
    "\n",
    "        # 접속 객체에 부가정보(header) 삽입, 크롤링이 가능하도록 유도\n",
    "        session.headers.update({\n",
    "            \"Referer\": \"\",\n",
    "            \"User-Agent\": userAgent\n",
    "        })\n",
    "\n",
    "        # 생성한 접속 객체를 활용해 웹 페이지에 접속\n",
    "        # 지정된 URL에 GET 요청을 보내고\n",
    "        # 그에 대한 응답을 r 변수에 할당\n",
    "        r = session.get(url)\n",
    "\n",
    "        # 접속 실패 시 에러 코드와 에러 메시지 출력\n",
    "        if r.status_code != 200:\n",
    "            msg = \"[%d Error] %s 에러 발생\" % (r.status_code, r.reason)\n",
    "            raise Exception(msg)\n",
    "\n",
    "        # 인코딩 형식을 지정해 beautifulsoup 객체를 생성\n",
    "        r.encoding = 'utf-8'\n",
    "\n",
    "        # r 변수에 저장된 text 정보를 시각화, 확인\n",
    "        # print(r.text)\n",
    "\n",
    "        # r.text에서 HTML을 파싱하고,\n",
    "        # 파싱된 HTML을 나타내는\n",
    "        # BeautifulSoup 객체 soup를 생성\n",
    "        soup = BeautifulSoup(r.text)\n",
    "        # print(soup)\n",
    "\n",
    "\n",
    "\n",
    "        # 추출할 음원의 수를 확인하기 위해 재생 버튼을 나타내는\n",
    "        # .btn-basic.btn-listen의 수를 확인해 반복할 횟수를 정한다\n",
    "        # 재생 버튼은 음원에만 존재하기 때문에 .btn-basic.btn-listen 사용\n",
    "        \n",
    "        genie_list = soup.select(\".btn-basic.btn-listen\")\n",
    "\n",
    "        # 반복문의 길이로 사용하기 적합한지 확인\n",
    "        # print(len(genie_list))\n",
    "        \n",
    "\n",
    "        # .number도 사용 가능함\n",
    "        # genie_list = soup.select(\".number\")\n",
    "        # print(len(genie_list))\n",
    "        \n",
    "\n",
    "        for j in range(len(genie_list)):\n",
    "\n",
    "            # 제목 추출\n",
    "            # 제목의 class는 title ellipsis였음\n",
    "            songEl = soup.select('.title.ellipsis')\n",
    "            song = songEl[j].text.strip()\n",
    "            # print(song)\n",
    "            \n",
    "            # 가수 추출\n",
    "            # 가수의 class는 artist ellipsis\n",
    "            singerEl = soup.select('.artist.ellipsis')\n",
    "            singer = singerEl[j].text.strip()\n",
    "            # print(singer)\n",
    "            \n",
    "            # 앨범 추출\n",
    "            # 앨범의 class는 albumtitle ellipsis\n",
    "            albumEl = soup.select('.albumtitle.ellipsis')\n",
    "            album = albumEl[j].text.strip()\n",
    "            # print(album)\n",
    "\n",
    "            # 순위 설정\n",
    "            # 각 페이지 별로 순위가 다르게 입력되도록 유도\n",
    "            # 1페이지는 1~50, 2페이지는 51~100으로 유도\n",
    "            rank = (int(p)-1) * 50 + (j+1)\n",
    "\n",
    "            if rank==1:\n",
    "                days-=1\n",
    "\n",
    "            # 추출한 데이터를 dict 형태로 변환\n",
    "            item = {\"날짜\" : modified_date, \"노래 제목\": song,\"가수\": singer, \"앨범\": album, \"순위\" : rank,}\n",
    "\n",
    "            # dict 정보를 genie_chart에 삽입\n",
    "            genie_chart.append(item)\n",
    "            \n",
    "genie_chart"
   ]
  },
  {
   "attachments": {},
   "cell_type": "markdown",
   "metadata": {},
   "source": [
    "DataFrame 사용"
   ]
  },
  {
   "cell_type": "code",
   "execution_count": null,
   "metadata": {},
   "outputs": [],
   "source": [
    "df = DataFrame(genie_chart)\n",
    "\n",
    "# 순위를 우선해서 보여주기 위해 index로 설정\n",
    "df.set_index('순위',inplace=True)\n",
    "# df\n",
    "df.to_excel(\"지니일간차트.xlsx\")\n",
    "df"
   ]
  }
 ],
 "metadata": {
  "kernelspec": {
   "display_name": "Python 3",
   "language": "python",
   "name": "python3"
  },
  "language_info": {
   "codemirror_mode": {
    "name": "ipython",
    "version": 3
   },
   "file_extension": ".py",
   "mimetype": "text/x-python",
   "name": "python",
   "nbconvert_exporter": "python",
   "pygments_lexer": "ipython3",
   "version": "3.9.1rc1"
  },
  "orig_nbformat": 4
 },
 "nbformat": 4,
 "nbformat_minor": 2
}
